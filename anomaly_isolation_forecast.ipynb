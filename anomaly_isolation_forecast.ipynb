{
 "cells": [
  {
   "cell_type": "code",
   "execution_count": 1,
   "id": "1ac67fb0",
   "metadata": {},
   "outputs": [],
   "source": [
    "import pandas as pd\n",
    "import numpy as np\n",
    "import matplotlib.pyplot as plt\n",
    "import plotly.express as px\n",
    "import seaborn as sns\n",
    "from datetime import datetime, timedelta\n",
    "import warnings\n",
    "warnings.filterwarnings('ignore')\n",
    "\n",
    "from sklearn.ensemble import IsolationForest"
   ]
  },
  {
   "cell_type": "code",
   "execution_count": 2,
   "id": "b000efc3",
   "metadata": {},
   "outputs": [
    {
     "name": "stdout",
     "output_type": "stream",
     "text": [
      "🚀 GERADORES INDIVIDUAIS DISPONÍVEIS:\n",
      "1. df = create_api_latency_data(days=30)          # Spikes e anomalias\n",
      "2. df = create_cpu_utilization_data(days=30)      # Padrões sazonais\n",
      "3. df = create_memory_usage_data(days=30)         # GC e crescimento\n",
      "4. df = create_network_traffic_data(days=30)      # Distribuição assimétrica\n",
      "5. df = create_db_response_time_data(days=30)     # Queries lentas\n",
      "6. df = create_stable_system_data(days=30)        # BAIXA VARIABILIDADE\n",
      "7. df = create_growth_trend_data(days=30)         # TENDÊNCIA FORTE\n",
      "\n",
      "✅ Cada função retorna um DataFrame pronto para o NeuralForecast!\n"
     ]
    }
   ],
   "source": [
    "# OPÇÃO 1: Métricas de Latência de API\n",
    "def create_api_latency_data(days=30, freq_minutes=5):\n",
    "    \"\"\"\n",
    "    Simula latência de API com padrões de tráfego e spikes ocasionais\n",
    "    Características: spikes raros mas intensos, padrões horários\n",
    "    \"\"\"\n",
    "    np.random.seed(123)\n",
    "    \n",
    "    end_time = datetime.now()\n",
    "    start_time = end_time - timedelta(days=days)\n",
    "    timestamps = pd.date_range(start=start_time, end=end_time, freq=f'{freq_minutes}min')\n",
    "    n_points = len(timestamps)\n",
    "    \n",
    "    # Base: latência baixa normal (50-150ms)\n",
    "    baseline = np.random.normal(100, 15, n_points)\n",
    "    \n",
    "    # Padrão horário: maior latência durante picos de uso\n",
    "    hourly_pattern = np.array([\n",
    "        30 * np.sin((ts.hour - 2) * np.pi / 12) if 8 <= ts.hour <= 22 else -20\n",
    "        for ts in timestamps\n",
    "    ])\n",
    "    \n",
    "    # Spikes de latência (simulando sobrecarga)\n",
    "    spikes = np.zeros(n_points)\n",
    "    spike_indices = np.random.choice(n_points, size=int(n_points * 0.015), replace=False)\n",
    "    for idx in spike_indices:\n",
    "        spikes[idx] = np.random.exponential(300)\n",
    "    \n",
    "    # Degradação gradual (simulando memory leaks)\n",
    "    degradation = np.linspace(0, 25, n_points)\n",
    "    \n",
    "    values = baseline + hourly_pattern + spikes + degradation\n",
    "    values = np.maximum(values, 10)  # Latência mínima de 10ms\n",
    "    \n",
    "    df = pd.DataFrame({'ds': timestamps, 'y': values})\n",
    "    \n",
    "    # Visualização e estatísticas\n",
    "    print(\"📊 DATASET: API Latência\")\n",
    "    print(f\" • Período: {df['ds'].min().strftime('%Y-%m-%d')} até {df['ds'].max().strftime('%Y-%m-%d')}\")\n",
    "    print(f\" • Pontos: {len(df):,}\")\n",
    "    print(f\" • Valor médio: {df['y'].mean():.2f} ms\")\n",
    "    print(f\" • Min/Max: {df['y'].min():.2f} / {df['y'].max():.2f} ms\")\n",
    "    print(f\" • Desvio padrão: {df['y'].std():.2f}\")\n",
    "    \n",
    "    plt.figure(figsize=(15, 6))\n",
    "    plt.plot(df['ds'], df['y'], alpha=0.7, linewidth=1, color='steelblue')\n",
    "    plt.title('API Latência - Dados Simulados', fontsize=14, weight='bold')\n",
    "    plt.xlabel('Data')\n",
    "    plt.ylabel('Latência (ms)')\n",
    "    plt.grid(True, alpha=0.3)\n",
    "    plt.xticks(rotation=45)\n",
    "    plt.tight_layout()\n",
    "    plt.show()\n",
    "    \n",
    "    return df\n",
    "\n",
    "# OPÇÃO 2: CPU Utilization\n",
    "def create_cpu_utilization_data(days=30, freq_minutes=5):\n",
    "    \"\"\"\n",
    "    Simula utilização de CPU com padrões de trabalho e batch jobs\n",
    "    Características: padrões bem definidos, sazonalidade clara\n",
    "    \"\"\"\n",
    "    np.random.seed(456)\n",
    "    \n",
    "    end_time = datetime.now()\n",
    "    start_time = end_time - timedelta(days=days)\n",
    "    timestamps = pd.date_range(start=start_time, end=end_time, freq=f'{freq_minutes}min')\n",
    "    n_points = len(timestamps)\n",
    "    \n",
    "    # CPU base (idle)\n",
    "    base_cpu = np.random.normal(15, 5, n_points)\n",
    "    \n",
    "    # Padrão diário de trabalho\n",
    "    work_pattern = np.array([\n",
    "        40 * (1 + 0.5 * np.sin((ts.hour - 9) * np.pi / 8)) if 7 <= ts.hour <= 19 else 5\n",
    "        for ts in timestamps\n",
    "    ])\n",
    "    \n",
    "    # Batch jobs noturnos\n",
    "    batch_jobs = np.array([\n",
    "        np.random.exponential(25) if 1 <= ts.hour <= 4 and np.random.random() < 0.1 else 0\n",
    "        for ts in timestamps\n",
    "    ])\n",
    "    \n",
    "    # Weekend pattern (menos intenso)\n",
    "    weekend_factor = np.array([\n",
    "        0.3 if ts.dayofweek >= 5 else 1.0 for ts in timestamps\n",
    "    ])\n",
    "    \n",
    "    values = base_cpu + (work_pattern * weekend_factor) + batch_jobs\n",
    "    values = np.clip(values, 0, 100)  # CPU entre 0-100%\n",
    "    \n",
    "    df = pd.DataFrame({'ds': timestamps, 'y': values})\n",
    "    \n",
    "    # Visualização e estatísticas\n",
    "    print(\"📊 DATASET: CPU Utilização\")\n",
    "    print(f\" • Período: {df['ds'].min().strftime('%Y-%m-%d')} até {df['ds'].max().strftime('%Y-%m-%d')}\")\n",
    "    print(f\" • Pontos: {len(df):,}\")\n",
    "    print(f\" • Valor médio: {df['y'].mean():.2f}%\")\n",
    "    print(f\" • Min/Max: {df['y'].min():.2f} / {df['y'].max():.2f}%\")\n",
    "    print(f\" • Desvio padrão: {df['y'].std():.2f}\")\n",
    "    \n",
    "    plt.figure(figsize=(15, 6))\n",
    "    plt.plot(df['ds'], df['y'], alpha=0.7, linewidth=1, color='orange')\n",
    "    plt.title('CPU Utilização - Dados Simulados', fontsize=14, weight='bold')\n",
    "    plt.xlabel('Data')\n",
    "    plt.ylabel('CPU Usage (%)')\n",
    "    plt.grid(True, alpha=0.3)\n",
    "    plt.xticks(rotation=45)\n",
    "    plt.tight_layout()\n",
    "    plt.show()\n",
    "    \n",
    "    return df\n",
    "\n",
    "# OPÇÃO 3: Memory Usage\n",
    "def create_memory_usage_data(days=30, freq_minutes=5):\n",
    "    \"\"\"\n",
    "    Simula uso de memória com garbage collection e memory leaks\n",
    "    Características: crescimento gradual com quedas bruscas\n",
    "    \"\"\"\n",
    "    np.random.seed(789)\n",
    "    \n",
    "    end_time = datetime.now()\n",
    "    start_time = end_time - timedelta(days=days)\n",
    "    timestamps = pd.date_range(start=start_time, end=end_time, freq=f'{freq_minutes}min')\n",
    "    n_points = len(timestamps)\n",
    "    \n",
    "    values = np.zeros(n_points)\n",
    "    current_memory = 2048  # Start com 2GB\n",
    "    \n",
    "    for i, ts in enumerate(timestamps):\n",
    "        # Crescimento gradual (simula memory leak)\n",
    "        growth = np.random.normal(0.5, 0.2)\n",
    "        current_memory += growth\n",
    "        \n",
    "        # Garbage Collection (drops súbitos)\n",
    "        if np.random.random() < 0.008:  # ~0.8% chance de GC\n",
    "            gc_reduction = np.random.uniform(0.15, 0.4)  # Reduz 15-40%\n",
    "            current_memory *= (1 - gc_reduction)\n",
    "        \n",
    "        # Padrão semanal\n",
    "        if ts.dayofweek < 5:  # Weekdays\n",
    "            load_factor = np.random.uniform(1.0, 1.3)\n",
    "        else:  # Weekends\n",
    "            load_factor = np.random.uniform(0.7, 1.0)\n",
    "        \n",
    "        values[i] = current_memory * load_factor\n",
    "        \n",
    "        # Evitar valores muito baixos ou altos\n",
    "        current_memory = np.clip(current_memory, 1000, 8000)\n",
    "    \n",
    "    df = pd.DataFrame({'ds': timestamps, 'y': values})\n",
    "    \n",
    "    # Visualização e estatísticas\n",
    "    print(\"📊 DATASET: Memory Usage\")\n",
    "    print(f\" • Período: {df['ds'].min().strftime('%Y-%m-%d')} até {df['ds'].max().strftime('%Y-%m-%d')}\")\n",
    "    print(f\" • Pontos: {len(df):,}\")\n",
    "    print(f\" • Valor médio: {df['y'].mean():.2f} MB\")\n",
    "    print(f\" • Min/Max: {df['y'].min():.2f} / {df['y'].max():.2f} MB\")\n",
    "    print(f\" • Desvio padrão: {df['y'].std():.2f}\")\n",
    "    \n",
    "    plt.figure(figsize=(15, 6))\n",
    "    plt.plot(df['ds'], df['y'], alpha=0.7, linewidth=1, color='green')\n",
    "    plt.title('Memory Usage - Dados Simulados', fontsize=14, weight='bold')\n",
    "    plt.xlabel('Data')\n",
    "    plt.ylabel('Memory Usage (MB)')\n",
    "    plt.grid(True, alpha=0.3)\n",
    "    plt.xticks(rotation=45)\n",
    "    plt.tight_layout()\n",
    "    plt.show()\n",
    "    \n",
    "    return df\n",
    "\n",
    "# OPÇÃO 4: Network Traffic\n",
    "def create_network_traffic_data(days=30, freq_minutes=5):\n",
    "    \"\"\"\n",
    "    Simula tráfego de rede com padrões de negócio e DDoS ocasionais\n",
    "    Características: distribuição assimétrica, eventos extremos\n",
    "    \"\"\"\n",
    "    np.random.seed(999)\n",
    "    \n",
    "    end_time = datetime.now()\n",
    "    start_time = end_time - timedelta(days=days)\n",
    "    timestamps = pd.date_range(start=start_time, end=end_time, freq=f'{freq_minutes}min')\n",
    "    n_points = len(timestamps)\n",
    "    \n",
    "    # Tráfego base\n",
    "    base_traffic = np.random.lognormal(4, 0.3, n_points)  # Log-normal para assimetria\n",
    "    \n",
    "    # Padrão horário (mais tráfego durante o dia)\n",
    "    hourly_multiplier = np.array([\n",
    "        (2 + np.sin((ts.hour - 12) * np.pi / 12)) if 6 <= ts.hour <= 23 else 0.5\n",
    "        for ts in timestamps\n",
    "    ])\n",
    "    \n",
    "    # Ataques DDoS simulados\n",
    "    ddos_events = np.zeros(n_points)\n",
    "    ddos_indices = np.random.choice(n_points, size=int(n_points * 0.005), replace=False)\n",
    "    for idx in ddos_indices:\n",
    "        # Simula DDoS por algumas horas\n",
    "        duration = np.random.randint(6, 24)  # 30min a 2h (em períodos de 5min)\n",
    "        end_idx = min(idx + duration, n_points)\n",
    "        multiplier = np.random.uniform(5, 15)\n",
    "        ddos_events[idx:end_idx] = multiplier\n",
    "    \n",
    "    values = base_traffic * hourly_multiplier * (1 + ddos_events)\n",
    "    \n",
    "    df = pd.DataFrame({'ds': timestamps, 'y': values})\n",
    "    \n",
    "    # Visualização e estatísticas\n",
    "    print(\"📊 DATASET: Network Traffic\")\n",
    "    print(f\" • Período: {df['ds'].min().strftime('%Y-%m-%d')} até {df['ds'].max().strftime('%Y-%m-%d')}\")\n",
    "    print(f\" • Pontos: {len(df):,}\")\n",
    "    print(f\" • Valor médio: {df['y'].mean():.2f} Mbps\")\n",
    "    print(f\" • Min/Max: {df['y'].min():.2f} / {df['y'].max():.2f} Mbps\")\n",
    "    print(f\" • Desvio padrão: {df['y'].std():.2f}\")\n",
    "    \n",
    "    plt.figure(figsize=(15, 6))\n",
    "    plt.plot(df['ds'], df['y'], alpha=0.7, linewidth=1, color='purple')\n",
    "    plt.title('Network Traffic - Dados Simulados', fontsize=14, weight='bold')\n",
    "    plt.xlabel('Data')\n",
    "    plt.ylabel('Network Traffic (Mbps)')\n",
    "    plt.grid(True, alpha=0.3)\n",
    "    plt.xticks(rotation=45)\n",
    "    plt.tight_layout()\n",
    "    plt.show()\n",
    "    \n",
    "    return df\n",
    "\n",
    "# OPÇÃO 5: Database Response Time\n",
    "def create_db_response_time_data(days=30, freq_minutes=5):\n",
    "    \"\"\"\n",
    "    Simula tempo de resposta do banco com queries lentas e locks\n",
    "    Características: eventos raros de alta latência, degradação gradual\n",
    "    \"\"\"\n",
    "    np.random.seed(111)\n",
    "    \n",
    "    end_time = datetime.now()\n",
    "    start_time = end_time - timedelta(days=days)\n",
    "    timestamps = pd.date_range(start=start_time, end=end_time, freq=f'{freq_minutes}min')\n",
    "    n_points = len(timestamps)\n",
    "    \n",
    "    # Tempo base (queries normais)\n",
    "    base_time = np.random.gamma(2, 10, n_points)  # Gamma para distribuição assimétrica\n",
    "    \n",
    "    # Degradação por fragmentação\n",
    "    fragmentation = np.linspace(0, 50, n_points) * (np.random.random(n_points) < 0.3)\n",
    "    \n",
    "    # Queries lentas/locks\n",
    "    slow_queries = np.zeros(n_points)\n",
    "    slow_indices = np.random.choice(n_points, size=int(n_points * 0.02), replace=False)\n",
    "    for idx in slow_indices:\n",
    "        slow_queries[idx] = np.random.exponential(500)\n",
    "    \n",
    "    # Padrão de backup (degrada performance)\n",
    "    backup_pattern = np.array([\n",
    "        200 if ts.hour == 2 and np.random.random() < 0.8 else 0  # Backup às 2h\n",
    "        for ts in timestamps\n",
    "    ])\n",
    "    \n",
    "    values = base_time + fragmentation + slow_queries + backup_pattern\n",
    "    values = np.maximum(values, 1)  # Mínimo 1ms\n",
    "    \n",
    "    df = pd.DataFrame({'ds': timestamps, 'y': values})\n",
    "    \n",
    "    # Visualização e estatísticas\n",
    "    print(\"📊 DATASET: Database Response Time\")\n",
    "    print(f\" • Período: {df['ds'].min().strftime('%Y-%m-%d')} até {df['ds'].max().strftime('%Y-%m-%d')}\")\n",
    "    print(f\" • Pontos: {len(df):,}\")\n",
    "    print(f\" • Valor médio: {df['y'].mean():.2f} ms\")\n",
    "    print(f\" • Min/Max: {df['y'].min():.2f} / {df['y'].max():.2f} ms\")\n",
    "    print(f\" • Desvio padrão: {df['y'].std():.2f}\")\n",
    "    \n",
    "    plt.figure(figsize=(15, 6))\n",
    "    plt.plot(df['ds'], df['y'], alpha=0.7, linewidth=1, color='red')\n",
    "    plt.title('Database Response Time - Dados Simulados', fontsize=14, weight='bold')\n",
    "    plt.xlabel('Data')\n",
    "    plt.ylabel('Response Time (ms)')\n",
    "    plt.grid(True, alpha=0.3)\n",
    "    plt.xticks(rotation=45)\n",
    "    plt.tight_layout()\n",
    "    plt.show()\n",
    "    \n",
    "    return df\n",
    "\n",
    "# OPÇÃO 6: Sistema Estável (Poucas Anomalias)\n",
    "def create_stable_system_data(days=30, freq_minutes=5):\n",
    "    \"\"\"\n",
    "    Simula um sistema estável com poucos picos e comportamento previsível\n",
    "    Características: baixa variabilidade, padrões suaves, poucas anomalias\n",
    "    \"\"\"\n",
    "    np.random.seed(222)\n",
    "    \n",
    "    end_time = datetime.now()\n",
    "    start_time = end_time - timedelta(days=days)\n",
    "    timestamps = pd.date_range(start=start_time, end=end_time, freq=f'{freq_minutes}min')\n",
    "    n_points = len(timestamps)\n",
    "    \n",
    "    # Base estável com pouca variação\n",
    "    baseline = np.random.normal(75, 3, n_points)  # Variação muito baixa\n",
    "    \n",
    "    # Padrão sazonal suave (diário)\n",
    "    daily_cycle = np.array([\n",
    "        10 * np.sin((ts.hour - 6) * np.pi / 12) for ts in timestamps\n",
    "    ])\n",
    "    \n",
    "    # Padrão semanal suave\n",
    "    weekly_cycle = np.array([\n",
    "        5 * np.sin((ts.dayofweek) * np.pi / 3.5) for ts in timestamps\n",
    "    ])\n",
    "    \n",
    "    # Poucas anomalias muito sutis\n",
    "    minor_anomalies = np.zeros(n_points)\n",
    "    anomaly_indices = np.random.choice(n_points, size=int(n_points * 0.003), replace=False)  # Só 0.3%\n",
    "    for idx in anomaly_indices:\n",
    "        minor_anomalies[idx] = np.random.normal(0, 8)  # Anomalias pequenas\n",
    "    \n",
    "    # Ruído muito baixo\n",
    "    noise = np.random.normal(0, 2, n_points)\n",
    "    \n",
    "    values = baseline + daily_cycle + weekly_cycle + minor_anomalies + noise\n",
    "    values = np.maximum(values, 40)  # Valor mínimo\n",
    "    \n",
    "    df = pd.DataFrame({'ds': timestamps, 'y': values})\n",
    "    \n",
    "    # Visualização e estatísticas\n",
    "    print(\"📊 DATASET: Sistema Estável (Poucas Anomalias)\")\n",
    "    print(f\" • Período: {df['ds'].min().strftime('%Y-%m-%d')} até {df['ds'].max().strftime('%Y-%m-%d')}\")\n",
    "    print(f\" • Pontos: {len(df):,}\")\n",
    "    print(f\" • Valor médio: {df['y'].mean():.2f}\")\n",
    "    print(f\" • Min/Max: {df['y'].min():.2f} / {df['y'].max():.2f}\")\n",
    "    print(f\" • Desvio padrão: {df['y'].std():.2f}\")\n",
    "    print(f\" • Coef. Variação: {df['y'].std()/df['y'].mean():.3f} (baixo = estável)\")\n",
    "    \n",
    "    plt.figure(figsize=(15, 6))\n",
    "    plt.plot(df['ds'], df['y'], alpha=0.8, linewidth=1, color='darkgreen')\n",
    "    plt.title('Sistema Estável - Dados Simulados (Baixa Variabilidade)', fontsize=14, weight='bold')\n",
    "    plt.xlabel('Data')\n",
    "    plt.ylabel('Métrica do Sistema')\n",
    "    plt.grid(True, alpha=0.3)\n",
    "    plt.xticks(rotation=45)\n",
    "    plt.tight_layout()\n",
    "    plt.show()\n",
    "    \n",
    "    return df\n",
    "\n",
    "# OPÇÃO 7: Crescimento com Tendência\n",
    "def create_growth_trend_data(days=30, freq_minutes=5):\n",
    "    \"\"\"\n",
    "    Simula uma métrica com forte tendência de crescimento\n",
    "    Características: tendência clara, sazonalidade, crescimento sustentado\n",
    "    \"\"\"\n",
    "    np.random.seed(333)\n",
    "    \n",
    "    end_time = datetime.now()\n",
    "    start_time = end_time - timedelta(days=days)\n",
    "    timestamps = pd.date_range(start=start_time, end=end_time, freq=f'{freq_minutes}min')\n",
    "    n_points = len(timestamps)\n",
    "    \n",
    "    # Tendência de crescimento forte\n",
    "    trend = np.linspace(100, 300, n_points)  # Cresce de 100 para 300\n",
    "    \n",
    "    # Crescimento acelerado (não-linear)\n",
    "    acceleration = np.array([0.5 * (i/n_points)**1.5 * 50 for i in range(n_points)])\n",
    "    \n",
    "    # Sazonalidade diária\n",
    "    daily_pattern = np.array([\n",
    "        15 * np.sin((ts.hour - 3) * np.pi / 12) for ts in timestamps\n",
    "    ])\n",
    "    \n",
    "    # Sazonalidade semanal\n",
    "    weekly_pattern = np.array([\n",
    "        10 * np.cos((ts.dayofweek) * np.pi / 3.5) for ts in timestamps\n",
    "    ])\n",
    "    \n",
    "    # Componente autoregressiva para suavizar\n",
    "    values = np.zeros(n_points)\n",
    "    values[0] = trend[0] + daily_pattern[0] + weekly_pattern[0]\n",
    "    \n",
    "    for i in range(1, n_points):\n",
    "        momentum = 0.2 * values[i-1]  # Suavização\n",
    "        current = trend[i] + acceleration[i] + daily_pattern[i] + weekly_pattern[i]\n",
    "        noise = np.random.normal(0, 5)\n",
    "        values[i] = 0.8 * current + momentum + noise\n",
    "    \n",
    "    # Alguns pequenos \"degraus\" de crescimento\n",
    "    step_indices = np.random.choice(range(n_points//4, 3*n_points//4), size=3, replace=False)\n",
    "    for idx in step_indices:\n",
    "        step_size = np.random.uniform(10, 25)\n",
    "        values[idx:] += step_size\n",
    "    \n",
    "    values = np.maximum(values, 50)  # Valor mínimo\n",
    "    \n",
    "    df = pd.DataFrame({'ds': timestamps, 'y': values})\n",
    "    \n",
    "    # Visualização e estatísticas\n",
    "    print(\"📊 DATASET: Crescimento com Tendência\")\n",
    "    print(f\" • Período: {df['ds'].min().strftime('%Y-%m-%d')} até {df['ds'].max().strftime('%Y-%m-%d')}\")\n",
    "    print(f\" • Pontos: {len(df):,}\")\n",
    "    print(f\" • Valor médio: {df['y'].mean():.2f}\")\n",
    "    print(f\" • Min/Max: {df['y'].min():.2f} / {df['y'].max():.2f}\")\n",
    "    print(f\" • Crescimento total: {((df['y'].iloc[-100:].mean() / df['y'].iloc[:100].mean()) - 1) * 100:.1f}%\")\n",
    "    print(f\" • Desvio padrão: {df['y'].std():.2f}\")\n",
    "    \n",
    "    plt.figure(figsize=(15, 6))\n",
    "    plt.plot(df['ds'], df['y'], alpha=0.8, linewidth=1, color='darkblue')\n",
    "    plt.title('Crescimento com Tendência - Dados Simulados', fontsize=14, weight='bold')\n",
    "    plt.xlabel('Data')\n",
    "    plt.ylabel('Métrica em Crescimento')\n",
    "    plt.grid(True, alpha=0.3)\n",
    "    plt.xticks(rotation=45)\n",
    "    plt.tight_layout()\n",
    "    plt.show()\n",
    "    \n",
    "    return df\n",
    "\n",
    "# INSTRUÇÕES DE USO:\n",
    "print(\"🚀 GERADORES INDIVIDUAIS DISPONÍVEIS:\")\n",
    "print(\"1. df = create_api_latency_data(days=30)          # Spikes e anomalias\")\n",
    "print(\"2. df = create_cpu_utilization_data(days=30)      # Padrões sazonais\")  \n",
    "print(\"3. df = create_memory_usage_data(days=30)         # GC e crescimento\")\n",
    "print(\"4. df = create_network_traffic_data(days=30)      # Distribuição assimétrica\")\n",
    "print(\"5. df = create_db_response_time_data(days=30)     # Queries lentas\")\n",
    "print(\"6. df = create_stable_system_data(days=30)        # BAIXA VARIABILIDADE\")\n",
    "print(\"7. df = create_growth_trend_data(days=30)         # TENDÊNCIA FORTE\")\n",
    "print(\"\\n✅ Cada função retorna um DataFrame pronto para o NeuralForecast!\")"
   ]
  },
  {
   "cell_type": "code",
   "execution_count": 76,
   "id": "9ea844f6",
   "metadata": {},
   "outputs": [
    {
     "name": "stdout",
     "output_type": "stream",
     "text": [
      "📊 DATASET: Database Response Time\n",
      " • Período: 2025-07-25 até 2025-08-24\n",
      " • Pontos: 8,641\n",
      " • Valor médio: 43.65 ms\n",
      " • Min/Max: 1.00 / 3034.49 ms\n",
      " • Desvio padrão: 105.78\n"
     ]
    },
    {
     "data": {
      "image/png": "[encoded data removed]",
      "text/plain": [
       "<Figure size 1500x600 with 1 Axes>"
      ]
     },
     "metadata": {},
     "output_type": "display_data"
    }
   ],
   "source": [
    "# Teste um por vez:\n",
    "#df = create_api_latency_data(days=90)        # Latência com spikes\n",
    "#df = create_cpu_utilization_data(days=90)    # CPU com padrões sazonais\n",
    "#df = create_memory_usage_data(days=90)       # Memória com GC\n",
    "#df = create_network_traffic_data(days=30)    # Tráfego assimétrico\n",
    "df = create_db_response_time_data(days=30)   # DB com queries lentas\n",
    "\n",
    "# Comece pelo mais fácil:\n",
    "#df = create_stable_system_data(days=90)\n",
    "\n",
    "# Depois teste tendência:\n",
    "#df = create_growth_trend_data(days=90)"
   ]
  },
  {
   "cell_type": "code",
   "execution_count": 77,
   "id": "4ed1108a",
   "metadata": {},
   "outputs": [],
   "source": [
    "df['ds'] = pd.to_datetime(df['ds'])\n",
    "df['y'] = pd.to_numeric(df['y'], errors='coerce')\n",
    "\n",
    "X = df[['y']]\n",
    "\n",
    "test_size = 288\n",
    "train_df = X.iloc[:-test_size].copy()\n",
    "test_df = X.iloc[-test_size:].copy()"
   ]
  },
  {
   "cell_type": "code",
   "execution_count": 78,
   "id": "7dee1485",
   "metadata": {},
   "outputs": [
    {
     "data": {
      "text/html": [
       "<style>#sk-container-id-12 {\n",
       "  /* Definition of color scheme common for light and dark mode */\n",
       "  --sklearn-color-text: #000;\n",
       "  --sklearn-color-text-muted: #666;\n",
       "  --sklearn-color-line: gray;\n",
       "  /* Definition of color scheme for unfitted estimators */\n",
       "  --sklearn-color-unfitted-level-0: #fff5e6;\n",
       "  --sklearn-color-unfitted-level-1: #f6e4d2;\n",
       "  --sklearn-color-unfitted-level-2: #ffe0b3;\n",
       "  --sklearn-color-unfitted-level-3: chocolate;\n",
       "  /* Definition of color scheme for fitted estimators */\n",
       "  --sklearn-color-fitted-level-0: #f0f8ff;\n",
       "  --sklearn-color-fitted-level-1: #d4ebff;\n",
       "  --sklearn-color-fitted-level-2: #b3dbfd;\n",
       "  --sklearn-color-fitted-level-3: cornflowerblue;\n",
       "\n",
       "  /* Specific color for light theme */\n",
       "  --sklearn-color-text-on-default-background: var(--sg-text-color, var(--theme-code-foreground, var(--jp-content-font-color1, black)));\n",
       "  --sklearn-color-background: var(--sg-background-color, var(--theme-background, var(--jp-layout-color0, white)));\n",
       "  --sklearn-color-border-box: var(--sg-text-color, var(--theme-code-foreground, var(--jp-content-font-color1, black)));\n",
       "  --sklearn-color-icon: #696969;\n",
       "\n",
       "  @media (prefers-color-scheme: dark) {\n",
       "    /* Redefinition of color scheme for dark theme */\n",
       "    --sklearn-color-text-on-default-background: var(--sg-text-color, var(--theme-code-foreground, var(--jp-content-font-color1, white)));\n",
       "    --sklearn-color-background: var(--sg-background-color, var(--theme-background, var(--jp-layout-color0, #111)));\n",
       "    --sklearn-color-border-box: var(--sg-text-color, var(--theme-code-foreground, var(--jp-content-font-color1, white)));\n",
       "    --sklearn-color-icon: #878787;\n",
       "  }\n",
       "}\n",
       "\n",
       "#sk-container-id-12 {\n",
       "  color: var(--sklearn-color-text);\n",
       "}\n",
       "\n",
       "#sk-container-id-12 pre {\n",
       "  padding: 0;\n",
       "}\n",
       "\n",
       "#sk-container-id-12 input.sk-hidden--visually {\n",
       "  border: 0;\n",
       "  clip: rect(1px 1px 1px 1px);\n",
       "  clip: rect(1px, 1px, 1px, 1px);\n",
       "  height: 1px;\n",
       "  margin: -1px;\n",
       "  overflow: hidden;\n",
       "  padding: 0;\n",
       "  position: absolute;\n",
       "  width: 1px;\n",
       "}\n",
       "\n",
       "#sk-container-id-12 div.sk-dashed-wrapped {\n",
       "  border: 1px dashed var(--sklearn-color-line);\n",
       "  margin: 0 0.4em 0.5em 0.4em;\n",
       "  box-sizing: border-box;\n",
       "  padding-bottom: 0.4em;\n",
       "  background-color: var(--sklearn-color-background);\n",
       "}\n",
       "\n",
       "#sk-container-id-12 div.sk-container {\n",
       "  /* jupyter's `normalize.less` sets `[hidden] { display: none; }`\n",
       "     but bootstrap.min.css set `[hidden] { display: none !important; }`\n",
       "     so we also need the `!important` here to be able to override the\n",
       "     default hidden behavior on the sphinx rendered scikit-learn.org.\n",
       "     See: https://github.com/scikit-learn/scikit-learn/issues/21755 */\n",
       "  display: inline-block !important;\n",
       "  position: relative;\n",
       "}\n",
       "\n",
       "#sk-container-id-12 div.sk-text-repr-fallback {\n",
       "  display: none;\n",
       "}\n",
       "\n",
       "div.sk-parallel-item,\n",
       "div.sk-serial,\n",
       "div.sk-item {\n",
       "  /* draw centered vertical line to link estimators */\n",
       "  background-image: linear-gradient(var(--sklearn-color-text-on-default-background), var(--sklearn-color-text-on-default-background));\n",
       "  background-size: 2px 100%;\n",
       "  background-repeat: no-repeat;\n",
       "  background-position: center center;\n",
       "}\n",
       "\n",
       "/* Parallel-specific style estimator block */\n",
       "\n",
       "#sk-container-id-12 div.sk-parallel-item::after {\n",
       "  content: \"\";\n",
       "  width: 100%;\n",
       "  border-bottom: 2px solid var(--sklearn-color-text-on-default-background);\n",
       "  flex-grow: 1;\n",
       "}\n",
       "\n",
       "#sk-container-id-12 div.sk-parallel {\n",
       "  display: flex;\n",
       "  align-items: stretch;\n",
       "  justify-content: center;\n",
       "  background-color: var(--sklearn-color-background);\n",
       "  position: relative;\n",
       "}\n",
       "\n",
       "#sk-container-id-12 div.sk-parallel-item {\n",
       "  display: flex;\n",
       "  flex-direction: column;\n",
       "}\n",
       "\n",
       "#sk-container-id-12 div.sk-parallel-item:first-child::after {\n",
       "  align-self: flex-end;\n",
       "  width: 50%;\n",
       "}\n",
       "\n",
       "#sk-container-id-12 div.sk-parallel-item:last-child::after {\n",
       "  align-self: flex-start;\n",
       "  width: 50%;\n",
       "}\n",
       "\n",
       "#sk-container-id-12 div.sk-parallel-item:only-child::after {\n",
       "  width: 0;\n",
       "}\n",
       "\n",
       "/* Serial-specific style estimator block */\n",
       "\n",
       "#sk-container-id-12 div.sk-serial {\n",
       "  display: flex;\n",
       "  flex-direction: column;\n",
       "  align-items: center;\n",
       "  background-color: var(--sklearn-color-background);\n",
       "  padding-right: 1em;\n",
       "  padding-left: 1em;\n",
       "}\n",
       "\n",
       "\n",
       "/* Toggleable style: style used for estimator/Pipeline/ColumnTransformer box that is\n",
       "clickable and can be expanded/collapsed.\n",
       "- Pipeline and ColumnTransformer use this feature and define the default style\n",
       "- Estimators will overwrite some part of the style using the `sk-estimator` class\n",
       "*/\n",
       "\n",
       "/* Pipeline and ColumnTransformer style (default) */\n",
       "\n",
       "#sk-container-id-12 div.sk-toggleable {\n",
       "  /* Default theme specific background. It is overwritten whether we have a\n",
       "  specific estimator or a Pipeline/ColumnTransformer */\n",
       "  background-color: var(--sklearn-color-background);\n",
       "}\n",
       "\n",
       "/* Toggleable label */\n",
       "#sk-container-id-12 label.sk-toggleable__label {\n",
       "  cursor: pointer;\n",
       "  display: flex;\n",
       "  width: 100%;\n",
       "  margin-bottom: 0;\n",
       "  padding: 0.5em;\n",
       "  box-sizing: border-box;\n",
       "  text-align: center;\n",
       "  align-items: start;\n",
       "  justify-content: space-between;\n",
       "  gap: 0.5em;\n",
       "}\n",
       "\n",
       "#sk-container-id-12 label.sk-toggleable__label .caption {\n",
       "  font-size: 0.6rem;\n",
       "  font-weight: lighter;\n",
       "  color: var(--sklearn-color-text-muted);\n",
       "}\n",
       "\n",
       "#sk-container-id-12 label.sk-toggleable__label-arrow:before {\n",
       "  /* Arrow on the left of the label */\n",
       "  content: \"▸\";\n",
       "  float: left;\n",
       "  margin-right: 0.25em;\n",
       "  color: var(--sklearn-color-icon);\n",
       "}\n",
       "\n",
       "#sk-container-id-12 label.sk-toggleable__label-arrow:hover:before {\n",
       "  color: var(--sklearn-color-text);\n",
       "}\n",
       "\n",
       "/* Toggleable content - dropdown */\n",
       "\n",
       "#sk-container-id-12 div.sk-toggleable__content {\n",
       "  max-height: 0;\n",
       "  max-width: 0;\n",
       "  overflow: hidden;\n",
       "  text-align: left;\n",
       "  /* unfitted */\n",
       "  background-color: var(--sklearn-color-unfitted-level-0);\n",
       "}\n",
       "\n",
       "#sk-container-id-12 div.sk-toggleable__content.fitted {\n",
       "  /* fitted */\n",
       "  background-color: var(--sklearn-color-fitted-level-0);\n",
       "}\n",
       "\n",
       "#sk-container-id-12 div.sk-toggleable__content pre {\n",
       "  margin: 0.2em;\n",
       "  border-radius: 0.25em;\n",
       "  color: var(--sklearn-color-text);\n",
       "  /* unfitted */\n",
       "  background-color: var(--sklearn-color-unfitted-level-0);\n",
       "}\n",
       "\n",
       "#sk-container-id-12 div.sk-toggleable__content.fitted pre {\n",
       "  /* unfitted */\n",
       "  background-color: var(--sklearn-color-fitted-level-0);\n",
       "}\n",
       "\n",
       "#sk-container-id-12 input.sk-toggleable__control:checked~div.sk-toggleable__content {\n",
       "  /* Expand drop-down */\n",
       "  max-height: 200px;\n",
       "  max-width: 100%;\n",
       "  overflow: auto;\n",
       "}\n",
       "\n",
       "#sk-container-id-12 input.sk-toggleable__control:checked~label.sk-toggleable__label-arrow:before {\n",
       "  content: \"▾\";\n",
       "}\n",
       "\n",
       "/* Pipeline/ColumnTransformer-specific style */\n",
       "\n",
       "#sk-container-id-12 div.sk-label input.sk-toggleable__control:checked~label.sk-toggleable__label {\n",
       "  color: var(--sklearn-color-text);\n",
       "  background-color: var(--sklearn-color-unfitted-level-2);\n",
       "}\n",
       "\n",
       "#sk-container-id-12 div.sk-label.fitted input.sk-toggleable__control:checked~label.sk-toggleable__label {\n",
       "  background-color: var(--sklearn-color-fitted-level-2);\n",
       "}\n",
       "\n",
       "/* Estimator-specific style */\n",
       "\n",
       "/* Colorize estimator box */\n",
       "#sk-container-id-12 div.sk-estimator input.sk-toggleable__control:checked~label.sk-toggleable__label {\n",
       "  /* unfitted */\n",
       "  background-color: var(--sklearn-color-unfitted-level-2);\n",
       "}\n",
       "\n",
       "#sk-container-id-12 div.sk-estimator.fitted input.sk-toggleable__control:checked~label.sk-toggleable__label {\n",
       "  /* fitted */\n",
       "  background-color: var(--sklearn-color-fitted-level-2);\n",
       "}\n",
       "\n",
       "#sk-container-id-12 div.sk-label label.sk-toggleable__label,\n",
       "#sk-container-id-12 div.sk-label label {\n",
       "  /* The background is the default theme color */\n",
       "  color: var(--sklearn-color-text-on-default-background);\n",
       "}\n",
       "\n",
       "/* On hover, darken the color of the background */\n",
       "#sk-container-id-12 div.sk-label:hover label.sk-toggleable__label {\n",
       "  color: var(--sklearn-color-text);\n",
       "  background-color: var(--sklearn-color-unfitted-level-2);\n",
       "}\n",
       "\n",
       "/* Label box, darken color on hover, fitted */\n",
       "#sk-container-id-12 div.sk-label.fitted:hover label.sk-toggleable__label.fitted {\n",
       "  color: var(--sklearn-color-text);\n",
       "  background-color: var(--sklearn-color-fitted-level-2);\n",
       "}\n",
       "\n",
       "/* Estimator label */\n",
       "\n",
       "#sk-container-id-12 div.sk-label label {\n",
       "  font-family: monospace;\n",
       "  font-weight: bold;\n",
       "  display: inline-block;\n",
       "  line-height: 1.2em;\n",
       "}\n",
       "\n",
       "#sk-container-id-12 div.sk-label-container {\n",
       "  text-align: center;\n",
       "}\n",
       "\n",
       "/* Estimator-specific */\n",
       "#sk-container-id-12 div.sk-estimator {\n",
       "  font-family: monospace;\n",
       "  border: 1px dotted var(--sklearn-color-border-box);\n",
       "  border-radius: 0.25em;\n",
       "  box-sizing: border-box;\n",
       "  margin-bottom: 0.5em;\n",
       "  /* unfitted */\n",
       "  background-color: var(--sklearn-color-unfitted-level-0);\n",
       "}\n",
       "\n",
       "#sk-container-id-12 div.sk-estimator.fitted {\n",
       "  /* fitted */\n",
       "  background-color: var(--sklearn-color-fitted-level-0);\n",
       "}\n",
       "\n",
       "/* on hover */\n",
       "#sk-container-id-12 div.sk-estimator:hover {\n",
       "  /* unfitted */\n",
       "  background-color: var(--sklearn-color-unfitted-level-2);\n",
       "}\n",
       "\n",
       "#sk-container-id-12 div.sk-estimator.fitted:hover {\n",
       "  /* fitted */\n",
       "  background-color: var(--sklearn-color-fitted-level-2);\n",
       "}\n",
       "\n",
       "/* Specification for estimator info (e.g. \"i\" and \"?\") */\n",
       "\n",
       "/* Common style for \"i\" and \"?\" */\n",
       "\n",
       ".sk-estimator-doc-link,\n",
       "a:link.sk-estimator-doc-link,\n",
       "a:visited.sk-estimator-doc-link {\n",
       "  float: right;\n",
       "  font-size: smaller;\n",
       "  line-height: 1em;\n",
       "  font-family: monospace;\n",
       "  background-color: var(--sklearn-color-background);\n",
       "  border-radius: 1em;\n",
       "  height: 1em;\n",
       "  width: 1em;\n",
       "  text-decoration: none !important;\n",
       "  margin-left: 0.5em;\n",
       "  text-align: center;\n",
       "  /* unfitted */\n",
       "  border: var(--sklearn-color-unfitted-level-1) 1pt solid;\n",
       "  color: var(--sklearn-color-unfitted-level-1);\n",
       "}\n",
       "\n",
       ".sk-estimator-doc-link.fitted,\n",
       "a:link.sk-estimator-doc-link.fitted,\n",
       "a:visited.sk-estimator-doc-link.fitted {\n",
       "  /* fitted */\n",
       "  border: var(--sklearn-color-fitted-level-1) 1pt solid;\n",
       "  color: var(--sklearn-color-fitted-level-1);\n",
       "}\n",
       "\n",
       "/* On hover */\n",
       "div.sk-estimator:hover .sk-estimator-doc-link:hover,\n",
       ".sk-estimator-doc-link:hover,\n",
       "div.sk-label-container:hover .sk-estimator-doc-link:hover,\n",
       ".sk-estimator-doc-link:hover {\n",
       "  /* unfitted */\n",
       "  background-color: var(--sklearn-color-unfitted-level-3);\n",
       "  color: var(--sklearn-color-background);\n",
       "  text-decoration: none;\n",
       "}\n",
       "\n",
       "div.sk-estimator.fitted:hover .sk-estimator-doc-link.fitted:hover,\n",
       ".sk-estimator-doc-link.fitted:hover,\n",
       "div.sk-label-container:hover .sk-estimator-doc-link.fitted:hover,\n",
       ".sk-estimator-doc-link.fitted:hover {\n",
       "  /* fitted */\n",
       "  background-color: var(--sklearn-color-fitted-level-3);\n",
       "  color: var(--sklearn-color-background);\n",
       "  text-decoration: none;\n",
       "}\n",
       "\n",
       "/* Span, style for the box shown on hovering the info icon */\n",
       ".sk-estimator-doc-link span {\n",
       "  display: none;\n",
       "  z-index: 9999;\n",
       "  position: relative;\n",
       "  font-weight: normal;\n",
       "  right: .2ex;\n",
       "  padding: .5ex;\n",
       "  margin: .5ex;\n",
       "  width: min-content;\n",
       "  min-width: 20ex;\n",
       "  max-width: 50ex;\n",
       "  color: var(--sklearn-color-text);\n",
       "  box-shadow: 2pt 2pt 4pt #999;\n",
       "  /* unfitted */\n",
       "  background: var(--sklearn-color-unfitted-level-0);\n",
       "  border: .5pt solid var(--sklearn-color-unfitted-level-3);\n",
       "}\n",
       "\n",
       ".sk-estimator-doc-link.fitted span {\n",
       "  /* fitted */\n",
       "  background: var(--sklearn-color-fitted-level-0);\n",
       "  border: var(--sklearn-color-fitted-level-3);\n",
       "}\n",
       "\n",
       ".sk-estimator-doc-link:hover span {\n",
       "  display: block;\n",
       "}\n",
       "\n",
       "/* \"?\"-specific style due to the `<a>` HTML tag */\n",
       "\n",
       "#sk-container-id-12 a.estimator_doc_link {\n",
       "  float: right;\n",
       "  font-size: 1rem;\n",
       "  line-height: 1em;\n",
       "  font-family: monospace;\n",
       "  background-color: var(--sklearn-color-background);\n",
       "  border-radius: 1rem;\n",
       "  height: 1rem;\n",
       "  width: 1rem;\n",
       "  text-decoration: none;\n",
       "  /* unfitted */\n",
       "  color: var(--sklearn-color-unfitted-level-1);\n",
       "  border: var(--sklearn-color-unfitted-level-1) 1pt solid;\n",
       "}\n",
       "\n",
       "#sk-container-id-12 a.estimator_doc_link.fitted {\n",
       "  /* fitted */\n",
       "  border: var(--sklearn-color-fitted-level-1) 1pt solid;\n",
       "  color: var(--sklearn-color-fitted-level-1);\n",
       "}\n",
       "\n",
       "/* On hover */\n",
       "#sk-container-id-12 a.estimator_doc_link:hover {\n",
       "  /* unfitted */\n",
       "  background-color: var(--sklearn-color-unfitted-level-3);\n",
       "  color: var(--sklearn-color-background);\n",
       "  text-decoration: none;\n",
       "}\n",
       "\n",
       "#sk-container-id-12 a.estimator_doc_link.fitted:hover {\n",
       "  /* fitted */\n",
       "  background-color: var(--sklearn-color-fitted-level-3);\n",
       "}\n",
       "</style><div id=\"sk-container-id-12\" class=\"sk-top-container\"><div class=\"sk-text-repr-fallback\"><pre>IsolationForest()</pre><b>In a Jupyter environment, please rerun this cell to show the HTML representation or trust the notebook. <br />On GitHub, the HTML representation is unable to render, please try loading this page with nbviewer.org.</b></div><div class=\"sk-container\" hidden><div class=\"sk-item\"><div class=\"sk-estimator fitted sk-toggleable\"><input class=\"sk-toggleable__control sk-hidden--visually\" id=\"sk-estimator-id-12\" type=\"checkbox\" checked><label for=\"sk-estimator-id-12\" class=\"sk-toggleable__label fitted sk-toggleable__label-arrow\"><div><div>IsolationForest</div></div><div><a class=\"sk-estimator-doc-link fitted\" rel=\"noreferrer\" target=\"_blank\" href=\"https://scikit-learn.org/1.6/modules/generated/sklearn.ensemble.IsolationForest.html\">?<span>Documentation for IsolationForest</span></a><span class=\"sk-estimator-doc-link fitted\">i<span>Fitted</span></span></div></label><div class=\"sk-toggleable__content fitted\"><pre>IsolationForest()</pre></div> </div></div></div></div>"
      ],
      "text/plain": [
       "IsolationForest()"
      ]
     },
     "execution_count": 78,
     "metadata": {},
     "output_type": "execute_result"
    }
   ],
   "source": [
    "model = IsolationForest()\n",
    "model.fit(X)"
   ]
  },
  {
   "cell_type": "code",
   "execution_count": 79,
   "id": "9c8ee0a8",
   "metadata": {},
   "outputs": [],
   "source": [
    "anomaly_test = model.predict(test_df)\n",
    "plot_df = df.loc[test_df.index].copy()\n",
    "plot_df['anomaly'] = anomaly_test"
   ]
  },
  {
   "cell_type": "code",
   "execution_count": 80,
   "id": "0e435316",
   "metadata": {},
   "outputs": [
    {
     "data": {
      "application/vnd.plotly.v1+json": {
       "config": {
        "plotlyServerURL": "https://plot.ly"
       },
       "data": [
        {
         "hovertemplate": "ds=%{x}<br>y=%{y}<br>anomaly=%{marker.color}<extra></extra>",
         "legendgroup": "",
         "marker": {
          "color": {
           "bdata": "AQEBAQEBAf8BAQEBAQEBAQEBAQEBAQEBAf8B/wEBAQEBAQEB/wEBAQEBAQEBAQEBAQEBAQEB/wEBAQEBAQEBAf//AQEBAQEBAQEBAQEB////AQEBAQEBAQEBAQEBAf8BAf8B/wEBAQEBAf8BAQEBAQEBAQEB//8BAQEBAf8BAQEBAf8BAQEBAQEBAQH//wH/Af8BAQEBAQEBAQEB/wEBAQEBAQEBAQEBAf8BAQH/AQEBAQEB/wEBAQEBAQEB/wEBAQH/AQEBAQEBAf8BAQEBAQEBAQEBAQEB/wEBAQH///////////////8B/wEBAQEBAQH/AQEBAQEBAQEBAQH/AQEB/wEBAQH/AQEBAQEBAQEBAQEBAQEBAf8BAQEBAQEB",
           "dtype": "i1"
          },
          "coloraxis": "coloraxis",
          "symbol": "circle"
         },
         "mode": "markers",
         "name": "",
         "orientation": "v",
         "showlegend": false,
         "type": "scatter",
         "x": [
          "2025-08-23T07:36:34.651522",
          "2025-08-23T07:41:34.651522",
          "2025-08-23T07:46:34.651522",
          "2025-08-23T07:51:34.651522",
          "2025-08-23T07:56:34.651522",
          "2025-08-23T08:01:34.651522",
          "2025-08-23T08:06:34.651522",
          "2025-08-23T08:11:34.651522",
          "2025-08-23T08:16:34.651522",
          "2025-08-23T08:21:34.651522",
          "2025-08-23T08:26:34.651522",
          "2025-08-23T08:31:34.651522",
          "2025-08-23T08:36:34.651522",
          "2025-08-23T08:41:34.651522",
          "2025-08-23T08:46:34.651522",
          "2025-08-23T08:51:34.651522",
          "2025-08-23T08:56:34.651522",
          "2025-08-23T09:01:34.651522",
          "2025-08-23T09:06:34.651522",
          "2025-08-23T09:11:34.651522",
          "2025-08-23T09:16:34.651522",
          "2025-08-23T09:21:34.651522",
          "2025-08-23T09:26:34.651522",
          "2025-08-23T09:31:34.651522",
          "2025-08-23T09:36:34.651522",
          "2025-08-23T09:41:34.651522",
          "2025-08-23T09:46:34.651522",
          "2025-08-23T09:51:34.651522",
          "2025-08-23T09:56:34.651522",
          "2025-08-23T10:01:34.651522",
          "2025-08-23T10:06:34.651522",
          "2025-08-23T10:11:34.651522",
          "2025-08-23T10:16:34.651522",
          "2025-08-23T10:21:34.651522",
          "2025-08-23T10:26:34.651522",
          "2025-08-23T10:31:34.651522",
          "2025-08-23T10:36:34.651522",
          "2025-08-23T10:41:34.651522",
          "2025-08-23T10:46:34.651522",
          "2025-08-23T10:51:34.651522",
          "2025-08-23T10:56:34.651522",
          "2025-08-23T11:01:34.651522",
          "2025-08-23T11:06:34.651522",
          "2025-08-23T11:11:34.651522",
          "2025-08-23T11:16:34.651522",
          "2025-08-23T11:21:34.651522",
          "2025-08-23T11:26:34.651522",
          "2025-08-23T11:31:34.651522",
          "2025-08-23T11:36:34.651522",
          "2025-08-23T11:41:34.651522",
          "2025-08-23T11:46:34.651522",
          "2025-08-23T11:51:34.651522",
          "2025-08-23T11:56:34.651522",
          "2025-08-23T12:01:34.651522",
          "2025-08-23T12:06:34.651522",
          "2025-08-23T12:11:34.651522",
          "2025-08-23T12:16:34.651522",
          "2025-08-23T12:21:34.651522",
          "2025-08-23T12:26:34.651522",
          "2025-08-23T12:31:34.651522",
          "2025-08-23T12:36:34.651522",
          "2025-08-23T12:41:34.651522",
          "2025-08-23T12:46:34.651522",
          "2025-08-23T12:51:34.651522",
          "2025-08-23T12:56:34.651522",
          "2025-08-23T13:01:34.651522",
          "2025-08-23T13:06:34.651522",
          "2025-08-23T13:11:34.651522",
          "2025-08-23T13:16:34.651522",
          "2025-08-23T13:21:34.651522",
          "2025-08-23T13:26:34.651522",
          "2025-08-23T13:31:34.651522",
          "2025-08-23T13:36:34.651522",
          "2025-08-23T13:41:34.651522",
          "2025-08-23T13:46:34.651522",
          "2025-08-23T13:51:34.651522",
          "2025-08-23T13:56:34.651522",
          "2025-08-23T14:01:34.651522",
          "2025-08-23T14:06:34.651522",
          "2025-08-23T14:11:34.651522",
          "2025-08-23T14:16:34.651522",
          "2025-08-23T14:21:34.651522",
          "2025-08-23T14:26:34.651522",
          "2025-08-23T14:31:34.651522",
          "2025-08-23T14:36:34.651522",
          "2025-08-23T14:41:34.651522",
          "2025-08-23T14:46:34.651522",
          "2025-08-23T14:51:34.651522",
          "2025-08-23T14:56:34.651522",
          "2025-08-23T15:01:34.651522",
          "2025-08-23T15:06:34.651522",
          "2025-08-23T15:11:34.651522",
          "2025-08-23T15:16:34.651522",
          "2025-08-23T15:21:34.651522",
          "2025-08-23T15:26:34.651522",
          "2025-08-23T15:31:34.651522",
          "2025-08-23T15:36:34.651522",
          "2025-08-23T15:41:34.651522",
          "2025-08-23T15:46:34.651522",
          "2025-08-23T15:51:34.651522",
          "2025-08-23T15:56:34.651522",
          "2025-08-23T16:01:34.651522",
          "2025-08-23T16:06:34.651522",
          "2025-08-23T16:11:34.651522",
          "2025-08-23T16:16:34.651522",
          "2025-08-23T16:21:34.651522",
          "2025-08-23T16:26:34.651522",
          "2025-08-23T16:31:34.651522",
          "2025-08-23T16:36:34.651522",
          "2025-08-23T16:41:34.651522",
          "2025-08-23T16:46:34.651522",
          "2025-08-23T16:51:34.651522",
          "2025-08-23T16:56:34.651522",
          "2025-08-23T17:01:34.651522",
          "2025-08-23T17:06:34.651522",
          "2025-08-23T17:11:34.651522",
          "2025-08-23T17:16:34.651522",
          "2025-08-23T17:21:34.651522",
          "2025-08-23T17:26:34.651522",
          "2025-08-23T17:31:34.651522",
          "2025-08-23T17:36:34.651522",
          "2025-08-23T17:41:34.651522",
          "2025-08-23T17:46:34.651522",
          "2025-08-23T17:51:34.651522",
          "2025-08-23T17:56:34.651522",
          "2025-08-23T18:01:34.651522",
          "2025-08-23T18:06:34.651522",
          "2025-08-23T18:11:34.651522",
          "2025-08-23T18:16:34.651522",
          "2025-08-23T18:21:34.651522",
          "2025-08-23T18:26:34.651522",
          "2025-08-23T18:31:34.651522",
          "2025-08-23T18:36:34.651522",
          "2025-08-23T18:41:34.651522",
          "2025-08-23T18:46:34.651522",
          "2025-08-23T18:51:34.651522",
          "2025-08-23T18:56:34.651522",
          "2025-08-23T19:01:34.651522",
          "2025-08-23T19:06:34.651522",
          "2025-08-23T19:11:34.651522",
          "2025-08-23T19:16:34.651522",
          "2025-08-23T19:21:34.651522",
          "2025-08-23T19:26:34.651522",
          "2025-08-23T19:31:34.651522",
          "2025-08-23T19:36:34.651522",
          "2025-08-23T19:41:34.651522",
          "2025-08-23T19:46:34.651522",
          "2025-08-23T19:51:34.651522",
          "2025-08-23T19:56:34.651522",
          "2025-08-23T20:01:34.651522",
          "2025-08-23T20:06:34.651522",
          "2025-08-23T20:11:34.651522",
          "2025-08-23T20:16:34.651522",
          "2025-08-23T20:21:34.651522",
          "2025-08-23T20:26:34.651522",
          "2025-08-23T20:31:34.651522",
          "2025-08-23T20:36:34.651522",
          "2025-08-23T20:41:34.651522",
          "2025-08-23T20:46:34.651522",
          "2025-08-23T20:51:34.651522",
          "2025-08-23T20:56:34.651522",
          "2025-08-23T21:01:34.651522",
          "2025-08-23T21:06:34.651522",
          "2025-08-23T21:11:34.651522",
          "2025-08-23T21:16:34.651522",
          "2025-08-23T21:21:34.651522",
          "2025-08-23T21:26:34.651522",
          "2025-08-23T21:31:34.651522",
          "2025-08-23T21:36:34.651522",
          "2025-08-23T21:41:34.651522",
          "2025-08-23T21:46:34.651522",
          "2025-08-23T21:51:34.651522",
          "2025-08-23T21:56:34.651522",
          "2025-08-23T22:01:34.651522",
          "2025-08-23T22:06:34.651522",
          "2025-08-23T22:11:34.651522",
          "2025-08-23T22:16:34.651522",
          "2025-08-23T22:21:34.651522",
          "2025-08-23T22:26:34.651522",
          "2025-08-23T22:31:34.651522",
          "2025-08-23T22:36:34.651522",
          "2025-08-23T22:41:34.651522",
          "2025-08-23T22:46:34.651522",
          "2025-08-23T22:51:34.651522",
          "2025-08-23T22:56:34.651522",
          "2025-08-23T23:01:34.651522",
          "2025-08-23T23:06:34.651522",
          "2025-08-23T23:11:34.651522",
          "2025-08-23T23:16:34.651522",
          "2025-08-23T23:21:34.651522",
          "2025-08-23T23:26:34.651522",
          "2025-08-23T23:31:34.651522",
          "2025-08-23T23:36:34.651522",
          "2025-08-23T23:41:34.651522",
          "2025-08-23T23:46:34.651522",
          "2025-08-23T23:51:34.651522",
          "2025-08-23T23:56:34.651522",
          "2025-08-24T00:01:34.651522",
          "2025-08-24T00:06:34.651522",
          "2025-08-24T00:11:34.651522",
          "2025-08-24T00:16:34.651522",
          "2025-08-24T00:21:34.651522",
          "2025-08-24T00:26:34.651522",
          "2025-08-24T00:31:34.651522",
          "2025-08-24T00:36:34.651522",
          "2025-08-24T00:41:34.651522",
          "2025-08-24T00:46:34.651522",
          "2025-08-24T00:51:34.651522",
          "2025-08-24T00:56:34.651522",
          "2025-08-24T01:01:34.651522",
          "2025-08-24T01:06:34.651522",
          "2025-08-24T01:11:34.651522",
          "2025-08-24T01:16:34.651522",
          "2025-08-24T01:21:34.651522",
          "2025-08-24T01:26:34.651522",
          "2025-08-24T01:31:34.651522",
          "2025-08-24T01:36:34.651522",
          "2025-08-24T01:41:34.651522",
          "2025-08-24T01:46:34.651522",
          "2025-08-24T01:51:34.651522",
          "2025-08-24T01:56:34.651522",
          "2025-08-24T02:01:34.651522",
          "2025-08-24T02:06:34.651522",
          "2025-08-24T02:11:34.651522",
          "2025-08-24T02:16:34.651522",
          "2025-08-24T02:21:34.651522",
          "2025-08-24T02:26:34.651522",
          "2025-08-24T02:31:34.651522",
          "2025-08-24T02:36:34.651522",
          "2025-08-24T02:41:34.651522",
          "2025-08-24T02:46:34.651522",
          "2025-08-24T02:51:34.651522",
          "2025-08-24T02:56:34.651522",
          "2025-08-24T03:01:34.651522",
          "2025-08-24T03:06:34.651522",
          "2025-08-24T03:11:34.651522",
          "2025-08-24T03:16:34.651522",
          "2025-08-24T03:21:34.651522",
          "2025-08-24T03:26:34.651522",
          "2025-08-24T03:31:34.651522",
          "2025-08-24T03:36:34.651522",
          "2025-08-24T03:41:34.651522",
          "2025-08-24T03:46:34.651522",
          "2025-08-24T03:51:34.651522",
          "2025-08-24T03:56:34.651522",
          "2025-08-24T04:01:34.651522",
          "2025-08-24T04:06:34.651522",
          "2025-08-24T04:11:34.651522",
          "2025-08-24T04:16:34.651522",
          "2025-08-24T04:21:34.651522",
          "2025-08-24T04:26:34.651522",
          "2025-08-24T04:31:34.651522",
          "2025-08-24T04:36:34.651522",
          "2025-08-24T04:41:34.651522",
          "2025-08-24T04:46:34.651522",
          "2025-08-24T04:51:34.651522",
          "2025-08-24T04:56:34.651522",
          "2025-08-24T05:01:34.651522",
          "2025-08-24T05:06:34.651522",
          "2025-08-24T05:11:34.651522",
          "2025-08-24T05:16:34.651522",
          "2025-08-24T05:21:34.651522",
          "2025-08-24T05:26:34.651522",
          "2025-08-24T05:31:34.651522",
          "2025-08-24T05:36:34.651522",
          "2025-08-24T05:41:34.651522",
          "2025-08-24T05:46:34.651522",
          "2025-08-24T05:51:34.651522",
          "2025-08-24T05:56:34.651522",
          "2025-08-24T06:01:34.651522",
          "2025-08-24T06:06:34.651522",
          "2025-08-24T06:11:34.651522",
          "2025-08-24T06:16:34.651522",
          "2025-08-24T06:21:34.651522",
          "2025-08-24T06:26:34.651522",
          "2025-08-24T06:31:34.651522",
          "2025-08-24T06:36:34.651522",
          "2025-08-24T06:41:34.651522",
          "2025-08-24T06:46:34.651522",
          "2025-08-24T06:51:34.651522",
          "2025-08-24T06:56:34.651522",
          "2025-08-24T07:01:34.651522",
          "2025-08-24T07:06:34.651522",
          "2025-08-24T07:11:34.651522",
          "2025-08-24T07:16:34.651522",
          "2025-08-24T07:21:34.651522",
          "2025-08-24T07:26:34.651522",
          "2025-08-24T07:31:34.651522"
         ],
         "xaxis": "x",
         "y": {
          "bdata": "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",
          "dtype": "f8"
         },
         "yaxis": "y"
        }
       ],
       "layout": {
        "coloraxis": {
         "colorbar": {
          "title": {
           "text": "anomaly"
          }
         },
         "colorscale": [
          [
           0,
           "#0d0887"
          ],
          [
           0.1111111111111111,
           "#46039f"
          ],
          [
           0.2222222222222222,
           "#7201a8"
          ],
          [
           0.3333333333333333,
           "#9c179e"
          ],
          [
           0.4444444444444444,
           "#bd3786"
          ],
          [
           0.5555555555555556,
           "#d8576b"
          ],
          [
           0.6666666666666666,
           "#ed7953"
          ],
          [
           0.7777777777777778,
           "#fb9f3a"
          ],
          [
           0.8888888888888888,
           "#fdca26"
          ],
          [
           1,
           "#f0f921"
          ]
         ]
        },
        "legend": {
         "tracegroupgap": 0
        },
        "margin": {
         "t": 60
        },
        "template": {
         "data": {
          "bar": [
           {
            "error_x": {
             "color": "#2a3f5f"
            },
            "error_y": {
             "color": "#2a3f5f"
            },
            "marker": {
             "line": {
              "color": "#E5ECF6",
              "width": 0.5
             },
             "pattern": {
              "fillmode": "overlay",
              "size": 10,
              "solidity": 0.2
             }
            },
            "type": "bar"
           }
          ],
          "barpolar": [
           {
            "marker": {
             "line": {
              "color": "#E5ECF6",
              "width": 0.5
             },
             "pattern": {
              "fillmode": "overlay",
              "size": 10,
              "solidity": 0.2
             }
            },
            "type": "barpolar"
           }
          ],
          "carpet": [
           {
            "aaxis": {
             "endlinecolor": "#2a3f5f",
             "gridcolor": "white",
             "linecolor": "white",
             "minorgridcolor": "white",
             "startlinecolor": "#2a3f5f"
            },
            "baxis": {
             "endlinecolor": "#2a3f5f",
             "gridcolor": "white",
             "linecolor": "white",
             "minorgridcolor": "white",
             "startlinecolor": "#2a3f5f"
            },
            "type": "carpet"
           }
          ],
          "choropleth": [
           {
            "colorbar": {
             "outlinewidth": 0,
             "ticks": ""
            },
            "type": "choropleth"
           }
          ],
          "contour": [
           {
            "colorbar": {
             "outlinewidth": 0,
             "ticks": ""
            },
            "colorscale": [
             [
              0,
              "#0d0887"
             ],
             [
              0.1111111111111111,
              "#46039f"
             ],
             [
              0.2222222222222222,
              "#7201a8"
             ],
             [
              0.3333333333333333,
              "#9c179e"
             ],
             [
              0.4444444444444444,
              "#bd3786"
             ],
             [
              0.5555555555555556,
              "#d8576b"
             ],
             [
              0.6666666666666666,
              "#ed7953"
             ],
             [
              0.7777777777777778,
              "#fb9f3a"
             ],
             [
              0.8888888888888888,
              "#fdca26"
             ],
             [
              1,
              "#f0f921"
             ]
            ],
            "type": "contour"
           }
          ],
          "contourcarpet": [
           {
            "colorbar": {
             "outlinewidth": 0,
             "ticks": ""
            },
            "type": "contourcarpet"
           }
          ],
          "heatmap": [
           {
            "colorbar": {
             "outlinewidth": 0,
             "ticks": ""
            },
            "colorscale": [
             [
              0,
              "#0d0887"
             ],
             [
              0.1111111111111111,
              "#46039f"
             ],
             [
              0.2222222222222222,
              "#7201a8"
             ],
             [
              0.3333333333333333,
              "#9c179e"
             ],
             [
              0.4444444444444444,
              "#bd3786"
             ],
             [
              0.5555555555555556,
              "#d8576b"
             ],
             [
              0.6666666666666666,
              "#ed7953"
             ],
             [
              0.7777777777777778,
              "#fb9f3a"
             ],
             [
              0.8888888888888888,
              "#fdca26"
             ],
             [
              1,
              "#f0f921"
             ]
            ],
            "type": "heatmap"
           }
          ],
          "histogram": [
           {
            "marker": {
             "pattern": {
              "fillmode": "overlay",
              "size": 10,
              "solidity": 0.2
             }
            },
            "type": "histogram"
           }
          ],
          "histogram2d": [
           {
            "colorbar": {
             "outlinewidth": 0,
             "ticks": ""
            },
            "colorscale": [
             [
              0,
              "#0d0887"
             ],
             [
              0.1111111111111111,
              "#46039f"
             ],
             [
              0.2222222222222222,
              "#7201a8"
             ],
             [
              0.3333333333333333,
              "#9c179e"
             ],
             [
              0.4444444444444444,
              "#bd3786"
             ],
             [
              0.5555555555555556,
              "#d8576b"
             ],
             [
              0.6666666666666666,
              "#ed7953"
             ],
             [
              0.7777777777777778,
              "#fb9f3a"
             ],
             [
              0.8888888888888888,
              "#fdca26"
             ],
             [
              1,
              "#f0f921"
             ]
            ],
            "type": "histogram2d"
           }
          ],
          "histogram2dcontour": [
           {
            "colorbar": {
             "outlinewidth": 0,
             "ticks": ""
            },
            "colorscale": [
             [
              0,
              "#0d0887"
             ],
             [
              0.1111111111111111,
              "#46039f"
             ],
             [
              0.2222222222222222,
              "#7201a8"
             ],
             [
              0.3333333333333333,
              "#9c179e"
             ],
             [
              0.4444444444444444,
              "#bd3786"
             ],
             [
              0.5555555555555556,
              "#d8576b"
             ],
             [
              0.6666666666666666,
              "#ed7953"
             ],
             [
              0.7777777777777778,
              "#fb9f3a"
             ],
             [
              0.8888888888888888,
              "#fdca26"
             ],
             [
              1,
              "#f0f921"
             ]
            ],
            "type": "histogram2dcontour"
           }
          ],
          "mesh3d": [
           {
            "colorbar": {
             "outlinewidth": 0,
             "ticks": ""
            },
            "type": "mesh3d"
           }
          ],
          "parcoords": [
           {
            "line": {
             "colorbar": {
              "outlinewidth": 0,
              "ticks": ""
             }
            },
            "type": "parcoords"
           }
          ],
          "pie": [
           {
            "automargin": true,
            "type": "pie"
           }
          ],
          "scatter": [
           {
            "fillpattern": {
             "fillmode": "overlay",
             "size": 10,
             "solidity": 0.2
            },
            "type": "scatter"
           }
          ],
          "scatter3d": [
           {
            "line": {
             "colorbar": {
              "outlinewidth": 0,
              "ticks": ""
             }
            },
            "marker": {
             "colorbar": {
              "outlinewidth": 0,
              "ticks": ""
             }
            },
            "type": "scatter3d"
           }
          ],
          "scattercarpet": [
           {
            "marker": {
             "colorbar": {
              "outlinewidth": 0,
              "ticks": ""
             }
            },
            "type": "scattercarpet"
           }
          ],
          "scattergeo": [
           {
            "marker": {
             "colorbar": {
              "outlinewidth": 0,
              "ticks": ""
             }
            },
            "type": "scattergeo"
           }
          ],
          "scattergl": [
           {
            "marker": {
             "colorbar": {
              "outlinewidth": 0,
              "ticks": ""
             }
            },
            "type": "scattergl"
           }
          ],
          "scattermap": [
           {
            "marker": {
             "colorbar": {
              "outlinewidth": 0,
              "ticks": ""
             }
            },
            "type": "scattermap"
           }
          ],
          "scattermapbox": [
           {
            "marker": {
             "colorbar": {
              "outlinewidth": 0,
              "ticks": ""
             }
            },
            "type": "scattermapbox"
           }
          ],
          "scatterpolar": [
           {
            "marker": {
             "colorbar": {
              "outlinewidth": 0,
              "ticks": ""
             }
            },
            "type": "scatterpolar"
           }
          ],
          "scatterpolargl": [
           {
            "marker": {
             "colorbar": {
              "outlinewidth": 0,
              "ticks": ""
             }
            },
            "type": "scatterpolargl"
           }
          ],
          "scatterternary": [
           {
            "marker": {
             "colorbar": {
              "outlinewidth": 0,
              "ticks": ""
             }
            },
            "type": "scatterternary"
           }
          ],
          "surface": [
           {
            "colorbar": {
             "outlinewidth": 0,
             "ticks": ""
            },
            "colorscale": [
             [
              0,
              "#0d0887"
             ],
             [
              0.1111111111111111,
              "#46039f"
             ],
             [
              0.2222222222222222,
              "#7201a8"
             ],
             [
              0.3333333333333333,
              "#9c179e"
             ],
             [
              0.4444444444444444,
              "#bd3786"
             ],
             [
              0.5555555555555556,
              "#d8576b"
             ],
             [
              0.6666666666666666,
              "#ed7953"
             ],
             [
              0.7777777777777778,
              "#fb9f3a"
             ],
             [
              0.8888888888888888,
              "#fdca26"
             ],
             [
              1,
              "#f0f921"
             ]
            ],
            "type": "surface"
           }
          ],
          "table": [
           {
            "cells": {
             "fill": {
              "color": "#EBF0F8"
             },
             "line": {
              "color": "white"
             }
            },
            "header": {
             "fill": {
              "color": "#C8D4E3"
             },
             "line": {
              "color": "white"
             }
            },
            "type": "table"
           }
          ]
         },
         "layout": {
          "annotationdefaults": {
           "arrowcolor": "#2a3f5f",
           "arrowhead": 0,
           "arrowwidth": 1
          },
          "autotypenumbers": "strict",
          "coloraxis": {
           "colorbar": {
            "outlinewidth": 0,
            "ticks": ""
           }
          },
          "colorscale": {
           "diverging": [
            [
             0,
             "#8e0152"
            ],
            [
             0.1,
             "#c51b7d"
            ],
            [
             0.2,
             "#de77ae"
            ],
            [
             0.3,
             "#f1b6da"
            ],
            [
             0.4,
             "#fde0ef"
            ],
            [
             0.5,
             "#f7f7f7"
            ],
            [
             0.6,
             "#e6f5d0"
            ],
            [
             0.7,
             "#b8e186"
            ],
            [
             0.8,
             "#7fbc41"
            ],
            [
             0.9,
             "#4d9221"
            ],
            [
             1,
             "#276419"
            ]
           ],
           "sequential": [
            [
             0,
             "#0d0887"
            ],
            [
             0.1111111111111111,
             "#46039f"
            ],
            [
             0.2222222222222222,
             "#7201a8"
            ],
            [
             0.3333333333333333,
             "#9c179e"
            ],
            [
             0.4444444444444444,
             "#bd3786"
            ],
            [
             0.5555555555555556,
             "#d8576b"
            ],
            [
             0.6666666666666666,
             "#ed7953"
            ],
            [
             0.7777777777777778,
             "#fb9f3a"
            ],
            [
             0.8888888888888888,
             "#fdca26"
            ],
            [
             1,
             "#f0f921"
            ]
           ],
           "sequentialminus": [
            [
             0,
             "#0d0887"
            ],
            [
             0.1111111111111111,
             "#46039f"
            ],
            [
             0.2222222222222222,
             "#7201a8"
            ],
            [
             0.3333333333333333,
             "#9c179e"
            ],
            [
             0.4444444444444444,
             "#bd3786"
            ],
            [
             0.5555555555555556,
             "#d8576b"
            ],
            [
             0.6666666666666666,
             "#ed7953"
            ],
            [
             0.7777777777777778,
             "#fb9f3a"
            ],
            [
             0.8888888888888888,
             "#fdca26"
            ],
            [
             1,
             "#f0f921"
            ]
           ]
          },
          "colorway": [
           "#636efa",
           "#EF553B",
           "#00cc96",
           "#ab63fa",
           "#FFA15A",
           "#19d3f3",
           "#FF6692",
           "#B6E880",
           "#FF97FF",
           "#FECB52"
          ],
          "font": {
           "color": "#2a3f5f"
          },
          "geo": {
           "bgcolor": "white",
           "lakecolor": "white",
           "landcolor": "#E5ECF6",
           "showlakes": true,
           "showland": true,
           "subunitcolor": "white"
          },
          "hoverlabel": {
           "align": "left"
          },
          "hovermode": "closest",
          "mapbox": {
           "style": "light"
          },
          "paper_bgcolor": "white",
          "plot_bgcolor": "#E5ECF6",
          "polar": {
           "angularaxis": {
            "gridcolor": "white",
            "linecolor": "white",
            "ticks": ""
           },
           "bgcolor": "#E5ECF6",
           "radialaxis": {
            "gridcolor": "white",
            "linecolor": "white",
            "ticks": ""
           }
          },
          "scene": {
           "xaxis": {
            "backgroundcolor": "#E5ECF6",
            "gridcolor": "white",
            "gridwidth": 2,
            "linecolor": "white",
            "showbackground": true,
            "ticks": "",
            "zerolinecolor": "white"
           },
           "yaxis": {
            "backgroundcolor": "#E5ECF6",
            "gridcolor": "white",
            "gridwidth": 2,
            "linecolor": "white",
            "showbackground": true,
            "ticks": "",
            "zerolinecolor": "white"
           },
           "zaxis": {
            "backgroundcolor": "#E5ECF6",
            "gridcolor": "white",
            "gridwidth": 2,
            "linecolor": "white",
            "showbackground": true,
            "ticks": "",
            "zerolinecolor": "white"
           }
          },
          "shapedefaults": {
           "line": {
            "color": "#2a3f5f"
           }
          },
          "ternary": {
           "aaxis": {
            "gridcolor": "white",
            "linecolor": "white",
            "ticks": ""
           },
           "baxis": {
            "gridcolor": "white",
            "linecolor": "white",
            "ticks": ""
           },
           "bgcolor": "#E5ECF6",
           "caxis": {
            "gridcolor": "white",
            "linecolor": "white",
            "ticks": ""
           }
          },
          "title": {
           "x": 0.05
          },
          "xaxis": {
           "automargin": true,
           "gridcolor": "white",
           "linecolor": "white",
           "ticks": "",
           "title": {
            "standoff": 15
           },
           "zerolinecolor": "white",
           "zerolinewidth": 2
          },
          "yaxis": {
           "automargin": true,
           "gridcolor": "white",
           "linecolor": "white",
           "ticks": "",
           "title": {
            "standoff": 15
           },
           "zerolinecolor": "white",
           "zerolinewidth": 2
          }
         }
        },
        "xaxis": {
         "anchor": "y",
         "domain": [
          0,
          1
         ],
         "title": {
          "text": "ds"
         }
        },
        "yaxis": {
         "anchor": "x",
         "domain": [
          0,
          1
         ],
         "title": {
          "text": "y"
         }
        }
       }
      }
     },
     "metadata": {},
     "output_type": "display_data"
    }
   ],
   "source": [
    "plot = px.scatter(plot_df, x='ds', y='y', color='anomaly')\n",
    "plot"
   ]
  }
 ],
 "metadata": {
  "kernelspec": {
   "display_name": "timecopilot",
   "language": "python",
   "name": "python3"
  },
  "language_info": {
   "codemirror_mode": {
    "name": "ipython",
    "version": 3
   },
   "file_extension": ".py",
   "mimetype": "text/x-python",
   "name": "python",
   "nbconvert_exporter": "python",
   "pygments_lexer": "ipython3",
   "version": "3.11.13"
  }
 },
 "nbformat": 4,
 "nbformat_minor": 5
}
